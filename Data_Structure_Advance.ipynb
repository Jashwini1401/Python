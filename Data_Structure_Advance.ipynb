{
  "nbformat": 4,
  "nbformat_minor": 0,
  "metadata": {
    "colab": {
      "provenance": []
    },
    "kernelspec": {
      "name": "python3",
      "display_name": "Python 3"
    },
    "language_info": {
      "name": "python"
    }
  },
  "cells": [
    {
      "cell_type": "markdown",
      "source": [
        "###1.Write a code to reverse a string."
      ],
      "metadata": {
        "id": "NqWXCbSb658d"
      }
    },
    {
      "cell_type": "code",
      "source": [
        "string=\"Hello World!\"\n",
        "string[::-1]"
      ],
      "metadata": {
        "colab": {
          "base_uri": "https://localhost:8080/",
          "height": 36
        },
        "id": "aaXVfDN87B_e",
        "outputId": "6f1006a8-4464-4e33-f53b-5e3fd992d139"
      },
      "execution_count": null,
      "outputs": [
        {
          "output_type": "execute_result",
          "data": {
            "text/plain": [
              "'!dlroW olleH'"
            ],
            "application/vnd.google.colaboratory.intrinsic+json": {
              "type": "string"
            }
          },
          "metadata": {},
          "execution_count": 1
        }
      ]
    },
    {
      "cell_type": "markdown",
      "source": [
        "###2.Write a code to count the number of vowels in a string."
      ],
      "metadata": {
        "id": "UuZPpFoq8qGc"
      }
    },
    {
      "cell_type": "code",
      "source": [
        "string1=\"Hello World!\"\n",
        "vowels=\"aeiouAEIOU\"\n",
        "count=0\n",
        "for i in string1:\n",
        "  if i in vowels:\n",
        "    count+=1\n",
        "print(count)"
      ],
      "metadata": {
        "colab": {
          "base_uri": "https://localhost:8080/"
        },
        "id": "7w8NGV5G8vs8",
        "outputId": "63ef6855-5ba0-4d3d-cc0d-fa580b580e06"
      },
      "execution_count": null,
      "outputs": [
        {
          "output_type": "stream",
          "name": "stdout",
          "text": [
            "3\n"
          ]
        }
      ]
    },
    {
      "cell_type": "markdown",
      "source": [
        "###3.Write a code to check if a given string is a palindrome or not."
      ],
      "metadata": {
        "id": "khmmpH-O-rT8"
      }
    },
    {
      "cell_type": "code",
      "source": [
        "string2=\"madam\"\n",
        "if string2==string2[::-1]:\n",
        "  print(\"Palindrome\")\n",
        "else:\n",
        "  print(\"Not Palindrome\")"
      ],
      "metadata": {
        "colab": {
          "base_uri": "https://localhost:8080/"
        },
        "id": "RnDYWEob-xqe",
        "outputId": "2fbf9b3f-8714-41a5-f32a-0b57a13724d0"
      },
      "execution_count": null,
      "outputs": [
        {
          "output_type": "stream",
          "name": "stdout",
          "text": [
            "Palindrome\n"
          ]
        }
      ]
    },
    {
      "cell_type": "markdown",
      "source": [
        "###4.Write a code to check if two given strings are anagrams of each other."
      ],
      "metadata": {
        "id": "JfdMbKXf_MGD"
      }
    },
    {
      "cell_type": "code",
      "source": [
        "string3=\"listen\"\n",
        "string4=\"silent\"\n",
        "if sorted(string3)==sorted(string4):\n",
        "  print(\"Anagrams\")\n",
        "else:\n",
        "  print(\"Not Anagrams\")"
      ],
      "metadata": {
        "colab": {
          "base_uri": "https://localhost:8080/"
        },
        "id": "MJKuYdI4_R47",
        "outputId": "adec6fc6-f35b-44b6-e3c7-b79308f70653"
      },
      "execution_count": null,
      "outputs": [
        {
          "output_type": "stream",
          "name": "stdout",
          "text": [
            "Anagrams\n"
          ]
        }
      ]
    },
    {
      "cell_type": "markdown",
      "source": [
        "###5. Write a code to find all occurrences of a given substring within another string.\n"
      ],
      "metadata": {
        "id": "Tf-e_-R3_8zW"
      }
    },
    {
      "cell_type": "code",
      "source": [
        "string5=\"Hello World!\"\n",
        "substring=\"l\"\n",
        "count=0\n",
        "for i in string5:\n",
        "  if i==substring:\n",
        "    count+=1\n",
        "print(count)"
      ],
      "metadata": {
        "colab": {
          "base_uri": "https://localhost:8080/"
        },
        "id": "sxRPXqcBAWNx",
        "outputId": "f91dbf40-d618-45c4-b60c-b6ae2de0919c"
      },
      "execution_count": null,
      "outputs": [
        {
          "output_type": "stream",
          "name": "stdout",
          "text": [
            "3\n"
          ]
        }
      ]
    },
    {
      "cell_type": "markdown",
      "source": [
        "###6.Write a code to perform basic string compression using the counts of repeated characters."
      ],
      "metadata": {
        "id": "m9D4Fi3yAkE3"
      }
    },
    {
      "cell_type": "code",
      "source": [
        "def compress_string(s):\n",
        "    compressed = \"\"\n",
        "    count = 1\n",
        "\n",
        "    for i in range(len(s) - 1):\n",
        "        if s[i] == s[i + 1]:\n",
        "            count += 1\n",
        "        else:\n",
        "            compressed += s[i] + str(count)\n",
        "            count = 1\n",
        "\n",
        "    compressed += s[-1] + str(count)\n",
        "\n",
        "    return compressed\n",
        "\n",
        "string6 = \"aabcccccaaa\"\n",
        "compressed_string = compress_string(string6)\n",
        "print(compressed_string)"
      ],
      "metadata": {
        "id": "69GcSXnnAuHv",
        "colab": {
          "base_uri": "https://localhost:8080/"
        },
        "outputId": "6153e942-9873-426e-b1ff-9da30871aa57"
      },
      "execution_count": 17,
      "outputs": [
        {
          "output_type": "stream",
          "name": "stdout",
          "text": [
            "a2b1c5a3\n"
          ]
        }
      ]
    },
    {
      "cell_type": "markdown",
      "source": [
        "###7.Write a code to determine if a string has all unique characters."
      ],
      "metadata": {
        "id": "KphxYnF3DaXr"
      }
    },
    {
      "cell_type": "code",
      "source": [
        "string7=\"Hello World!\"\n",
        "if len(string7)==len(set(string7)):\n",
        "  print(\"Unique\")\n",
        "else:\n",
        "  print(\"Not Unique\")"
      ],
      "metadata": {
        "colab": {
          "base_uri": "https://localhost:8080/"
        },
        "id": "of_n_kZT3kq_",
        "outputId": "3b6dd31d-5226-433a-d7ff-d28fc27ed29e"
      },
      "execution_count": null,
      "outputs": [
        {
          "output_type": "stream",
          "name": "stdout",
          "text": [
            "Not Unique\n"
          ]
        }
      ]
    },
    {
      "cell_type": "markdown",
      "source": [
        "###8. Write a code to convert a given string to uppercase or lowercase."
      ],
      "metadata": {
        "id": "OL58_nqt3yxQ"
      }
    },
    {
      "cell_type": "code",
      "source": [
        "string8 = \"Hello World!\"\n",
        "\n",
        "uppercase_string = string8.upper()\n",
        "print(uppercase_string)\n",
        "\n",
        "lowercase_string = string8.lower()\n",
        "print(lowercase_string)"
      ],
      "metadata": {
        "colab": {
          "base_uri": "https://localhost:8080/"
        },
        "id": "JjPT2dSN35R4",
        "outputId": "f2834cdb-3cfc-4e74-a9c2-c2b9552c463d"
      },
      "execution_count": null,
      "outputs": [
        {
          "output_type": "stream",
          "name": "stdout",
          "text": [
            "HELLO WORLD!\n",
            "hello world!\n"
          ]
        }
      ]
    },
    {
      "cell_type": "markdown",
      "source": [
        "###9.Write a code to count the number of words in a string."
      ],
      "metadata": {
        "id": "sZgqqCd64YGa"
      }
    },
    {
      "cell_type": "code",
      "source": [
        "string9 = \"Hello World!\"\n",
        "\n",
        "word_count = len(string9.split())\n",
        "print(word_count)"
      ],
      "metadata": {
        "colab": {
          "base_uri": "https://localhost:8080/"
        },
        "id": "a1KBWzMX4ltM",
        "outputId": "9256a9c6-c1dc-4394-c1f4-3fe2846c1696"
      },
      "execution_count": null,
      "outputs": [
        {
          "output_type": "stream",
          "name": "stdout",
          "text": [
            "2\n"
          ]
        }
      ]
    },
    {
      "cell_type": "markdown",
      "source": [
        "###10.Write a code to concatenate two strings without using the + operator."
      ],
      "metadata": {
        "id": "G6NOreMv4386"
      }
    },
    {
      "cell_type": "code",
      "source": [
        "string1 = \"Hello\"\n",
        "string2 = \"World!\"\n",
        "\n",
        "concatenated_string = \"\".join([string1, string2])\n",
        "print(concatenated_string)\n",
        "\n",
        "concatenated_string = f\"{string1}{string2}\"\n",
        "print(concatenated_string)"
      ],
      "metadata": {
        "colab": {
          "base_uri": "https://localhost:8080/"
        },
        "id": "PLVBdiEJ5BRe",
        "outputId": "b7f8d123-6b5c-4046-8616-f52c14356cdd"
      },
      "execution_count": null,
      "outputs": [
        {
          "output_type": "stream",
          "name": "stdout",
          "text": [
            "HelloWorld!\n",
            "HelloWorld!\n"
          ]
        }
      ]
    },
    {
      "cell_type": "markdown",
      "source": [
        "###11.Write a code to remove all occurrences of a specific element from a list."
      ],
      "metadata": {
        "id": "ueeCFVNn5ZZ9"
      }
    },
    {
      "cell_type": "code",
      "source": [
        "my_list = [1, 2, 3, 2, 4, 2, 5]\n",
        "element_to_remove = 2\n",
        "new_list = [x for x in my_list if x != element_to_remove]\n",
        "print(new_list)"
      ],
      "metadata": {
        "colab": {
          "base_uri": "https://localhost:8080/"
        },
        "id": "R_dc_8Wj5p-K",
        "outputId": "6588453c-3bad-4ffd-ff57-c91225e7f3d4"
      },
      "execution_count": null,
      "outputs": [
        {
          "output_type": "stream",
          "name": "stdout",
          "text": [
            "[1, 3, 4, 5]\n"
          ]
        }
      ]
    },
    {
      "cell_type": "markdown",
      "source": [
        "###12.Implement a code to find the second largest number in a given list of integers."
      ],
      "metadata": {
        "id": "-1igejmD6r5w"
      }
    },
    {
      "cell_type": "code",
      "source": [
        "def find_second_largest(numbers):\n",
        "  numbers.sort()\n",
        "  return numbers[-2]\n",
        "\n",
        "numbers = [1, 5, 3, 5, 7, 2]\n",
        "second_largest = find_second_largest(numbers)\n",
        "\n",
        "print(f\"The second largest number is: {second_largest}\")"
      ],
      "metadata": {
        "colab": {
          "base_uri": "https://localhost:8080/"
        },
        "id": "8rVKZ42Z6yUv",
        "outputId": "1d11c312-4b4b-402d-c4fb-f9d7c3582dbb"
      },
      "execution_count": 11,
      "outputs": [
        {
          "output_type": "stream",
          "name": "stdout",
          "text": [
            "The second largest number is: 5\n"
          ]
        }
      ]
    },
    {
      "cell_type": "markdown",
      "source": [
        "###13.Create a code to count the occurrences of each element in a list and return a dictionary with elements as keys and their counts as values."
      ],
      "metadata": {
        "id": "FbyISC1zzP2-"
      }
    },
    {
      "cell_type": "code",
      "source": [
        "def count_occurrences(data):\n",
        "  occurrences = {}\n",
        "  for item in data:\n",
        "    if item in occurrences:\n",
        "      occurrences[item] += 1\n",
        "    else:\n",
        "      occurrences[item] = 1\n",
        "  return occurrences\n",
        "my_list = [1, 2, 3, 2, 4, 2, 5, 1, 3]\n",
        "occurrences = count_occurrences(my_list)\n",
        "print(occurrences)"
      ],
      "metadata": {
        "colab": {
          "base_uri": "https://localhost:8080/"
        },
        "id": "wYHxJtHuzfk2",
        "outputId": "88917db3-9ebe-4e8a-a872-cc5949902625"
      },
      "execution_count": 8,
      "outputs": [
        {
          "output_type": "stream",
          "name": "stdout",
          "text": [
            "{1: 2, 2: 3, 3: 2, 4: 1, 5: 1}\n"
          ]
        }
      ]
    },
    {
      "cell_type": "markdown",
      "source": [
        "###14.Write a code to reverse a list in-place without using any built-in reverse functions."
      ],
      "metadata": {
        "id": "EKLt21TU21d9"
      }
    },
    {
      "cell_type": "code",
      "source": [
        "def reverse_list_in_place(lst):\n",
        "\n",
        "  left, right = 0, len(lst) - 1\n",
        "  while left < right:\n",
        "    lst[left], lst[right] = lst[right], lst[left]\n",
        "    left += 1\n",
        "    right -= 1\n",
        "\n",
        "my_list = [1, 2, 3, 4, 5]\n",
        "reverse_list_in_place(my_list)\n",
        "print(my_list)"
      ],
      "metadata": {
        "colab": {
          "base_uri": "https://localhost:8080/"
        },
        "id": "oVpjBISX272E",
        "outputId": "7fa39c32-8c67-4ae7-f1d3-88cee5d6bf33"
      },
      "execution_count": 19,
      "outputs": [
        {
          "output_type": "stream",
          "name": "stdout",
          "text": [
            "[5, 4, 3, 2, 1]\n"
          ]
        }
      ]
    },
    {
      "cell_type": "markdown",
      "source": [
        "###15.Implement a code to find and remove duplicates from a list while preserving the original order of elements."
      ],
      "metadata": {
        "id": "Bs9sZHKw3nc3"
      }
    },
    {
      "cell_type": "code",
      "source": [
        "def remove_duplicates_preserve_order(lst):\n",
        "  seen = set()\n",
        "  result = []\n",
        "\n",
        "  for item in lst:\n",
        "    if item not in seen:\n",
        "      seen.add(item)\n",
        "      result.append(item)\n",
        "  return result\n",
        "\n",
        "my_list = [1, 2, 3, 2, 4, 1, 5]\n",
        "unique_list = remove_duplicates_preserve_order(my_list)\n",
        "print(unique_list)"
      ],
      "metadata": {
        "colab": {
          "base_uri": "https://localhost:8080/"
        },
        "id": "Bin_07Z53vr2",
        "outputId": "09a0c134-b5a7-43a3-9e6b-b2d2afe9838a"
      },
      "execution_count": 20,
      "outputs": [
        {
          "output_type": "stream",
          "name": "stdout",
          "text": [
            "[1, 2, 3, 4, 5]\n"
          ]
        }
      ]
    },
    {
      "cell_type": "markdown",
      "source": [],
      "metadata": {
        "id": "D5VxM-M54qKr"
      }
    },
    {
      "cell_type": "markdown",
      "source": [
        "###16.Create a code to check if a given list is sorted (either in ascending or descending order) or not."
      ],
      "metadata": {
        "id": "TjWOkzph4qgP"
      }
    },
    {
      "cell_type": "code",
      "source": [
        "def is_sorted(lst):\n",
        "  n = len(lst)\n",
        "  is_ascending = all(lst[i] <= lst[i + 1] for i in range(n - 1))\n",
        "  is_descending = all(lst[i] >= lst[i + 1] for i in range(n - 1))\n",
        "\n",
        "  return is_ascending or is_descending\n",
        "\n",
        "list1 = [1, 2, 3, 4, 5]\n",
        "list2 = [5, 4, 3, 2, 1]\n",
        "list3 = [1, 3, 2, 4, 5]\n",
        "\n",
        "print(is_sorted(list1))\n",
        "print(is_sorted(list2))\n",
        "print(is_sorted(list3))"
      ],
      "metadata": {
        "colab": {
          "base_uri": "https://localhost:8080/"
        },
        "id": "yLgytqP64089",
        "outputId": "58d922d5-369d-4d3c-b36e-0d6428fd6366"
      },
      "execution_count": 21,
      "outputs": [
        {
          "output_type": "stream",
          "name": "stdout",
          "text": [
            "True\n",
            "True\n",
            "False\n"
          ]
        }
      ]
    },
    {
      "cell_type": "markdown",
      "source": [
        "###17.Write a code to merge two sorted lists into a single sorted list."
      ],
      "metadata": {
        "id": "Yn2othw15W9y"
      }
    },
    {
      "cell_type": "code",
      "source": [
        "list1 = [1, 3, 5, 7]\n",
        "list2 = [2, 4, 6, 8]\n",
        "merged_list = []\n",
        "\n",
        "while list1 and list2:\n",
        "  if list1[0] < list2[0]:\n",
        "    merged_list.append(list1.pop(0))\n",
        "  else:\n",
        "    merged_list.append(list2.pop(0))\n",
        "\n",
        "merged_list.extend(list1)\n",
        "merged_list.extend(list2)\n",
        "\n",
        "print(merged_list)"
      ],
      "metadata": {
        "colab": {
          "base_uri": "https://localhost:8080/"
        },
        "id": "9HMTffq05cn-",
        "outputId": "a5619949-71dd-4a15-d68d-f4c036d4bf8a"
      },
      "execution_count": 25,
      "outputs": [
        {
          "output_type": "stream",
          "name": "stdout",
          "text": [
            "[1, 2, 3, 4, 5, 6, 7, 8]\n"
          ]
        }
      ]
    },
    {
      "cell_type": "markdown",
      "source": [
        "###18. Implement a code to find the intersection of two given lists."
      ],
      "metadata": {
        "id": "ybeiRD2o7jNI"
      }
    },
    {
      "cell_type": "code",
      "source": [
        "list1 = [1, 2, 3, 4, 5]\n",
        "list2 = [3, 4, 5, 6, 7]\n",
        "intersection = []\n",
        "\n",
        "for item in list1:\n",
        "  if item in list2:\n",
        "    intersection.append(item)\n",
        "\n",
        "print(intersection)"
      ],
      "metadata": {
        "colab": {
          "base_uri": "https://localhost:8080/"
        },
        "id": "hLDErTam7obL",
        "outputId": "78b9d548-6362-44ca-a8b5-e5b69e609137"
      },
      "execution_count": 26,
      "outputs": [
        {
          "output_type": "stream",
          "name": "stdout",
          "text": [
            "[3, 4, 5]\n"
          ]
        }
      ]
    },
    {
      "cell_type": "markdown",
      "source": [
        "###19.Create a code to find the union of two lists without duplicates."
      ],
      "metadata": {
        "id": "JI-j0RSM767o"
      }
    },
    {
      "cell_type": "code",
      "source": [
        "list1 = [1, 2, 3, 4, 5]\n",
        "list2 = [3, 4, 5, 6, 7]\n",
        "union = list(set(list1 + list2))\n",
        "\n",
        "print(union)\n"
      ],
      "metadata": {
        "colab": {
          "base_uri": "https://localhost:8080/"
        },
        "id": "ilhPsoHR8BAJ",
        "outputId": "6f146d2c-375a-4dac-b31f-56fb69d69a91"
      },
      "execution_count": 27,
      "outputs": [
        {
          "output_type": "stream",
          "name": "stdout",
          "text": [
            "[1, 2, 3, 4, 5, 6, 7]\n"
          ]
        }
      ]
    },
    {
      "cell_type": "markdown",
      "source": [
        "###20.Write a code to shuffle a given list randomly without using any built-in shuffle functions."
      ],
      "metadata": {
        "id": "1m4AFZEN8SGo"
      }
    },
    {
      "cell_type": "code",
      "source": [
        "import random\n",
        "list1 = [1, 2, 3, 4, 5]\n",
        "shuffled_list = []\n",
        "\n",
        "while list1:\n",
        "  index = random.randint(0, len(list1) - 1)\n",
        "  shuffled_list.append(list1.pop(index))\n",
        "\n",
        "print(shuffled_list)\n"
      ],
      "metadata": {
        "colab": {
          "base_uri": "https://localhost:8080/"
        },
        "id": "WiMKt34G8ZX2",
        "outputId": "c811793c-fc12-41b3-d300-24a2f0ec8287"
      },
      "execution_count": 29,
      "outputs": [
        {
          "output_type": "stream",
          "name": "stdout",
          "text": [
            "[4, 2, 1, 5, 3]\n"
          ]
        }
      ]
    },
    {
      "cell_type": "markdown",
      "source": [
        "###21.Write a code that takes two tuples as input and returns a new tuple containing elements that are common to both input tuples."
      ],
      "metadata": {
        "id": "gsI9cvYe9J1y"
      }
    },
    {
      "cell_type": "code",
      "source": [
        "tuple1 = (1, 2, 3, 4, 5)\n",
        "tuple2 = (3, 4, 5, 6, 7)\n",
        "common_elements = tuple(item for item in tuple1 if item in tuple2)\n",
        "\n",
        "print(common_elements)"
      ],
      "metadata": {
        "colab": {
          "base_uri": "https://localhost:8080/"
        },
        "id": "YnxMEWRN9Tn8",
        "outputId": "ab1c2dc9-b4aa-45ad-acf9-8275bea81fcc"
      },
      "execution_count": 30,
      "outputs": [
        {
          "output_type": "stream",
          "name": "stdout",
          "text": [
            "(3, 4, 5)\n"
          ]
        }
      ]
    },
    {
      "cell_type": "markdown",
      "source": [
        "###22.Create a code that prompts the user to enter two sets of integers separated by commas. Then, print the intersection of these two sets."
      ],
      "metadata": {
        "id": "44ATTegU9r1j"
      }
    },
    {
      "cell_type": "code",
      "source": [
        "set1 = set(map(int, input(\"Enter the first set of integers separated by commas: \").split(',')))\n",
        "set2 = set(map(int, input(\"Enter the second set of integers separated by commas: \").split(',')))\n",
        "intersection = set1&set2\n",
        "\n",
        "print(\"The intersection of the two sets is:\", intersection)"
      ],
      "metadata": {
        "colab": {
          "base_uri": "https://localhost:8080/"
        },
        "id": "bnDccqBn9zrG",
        "outputId": "11fab363-7cec-4e9f-d30d-1c9e0173b992"
      },
      "execution_count": 32,
      "outputs": [
        {
          "output_type": "stream",
          "name": "stdout",
          "text": [
            "Enter the first set of integers separated by commas: 45,50,55,75,80\n",
            "Enter the second set of integers separated by commas: 95,75,85,45,50\n",
            "The intersection of the two sets is: {50, 75, 45}\n"
          ]
        }
      ]
    },
    {
      "cell_type": "markdown",
      "source": [
        "###23.Write a code to concatenate two tuples. The function should take two tuples as input and return a new tuple containing elements from both input tuples."
      ],
      "metadata": {
        "id": "HohdHkkc-76j"
      }
    },
    {
      "cell_type": "code",
      "source": [
        "tuple1 = (1, 2, 3)\n",
        "tuple2 = (4, 5, 6)\n",
        "concatenated_tuple = tuple1 + tuple2\n",
        "\n",
        "print(concatenated_tuple)\n"
      ],
      "metadata": {
        "colab": {
          "base_uri": "https://localhost:8080/"
        },
        "id": "iQFRs1Sc_DHf",
        "outputId": "5474ee7b-03af-4505-be5a-2bfdbc3a5328"
      },
      "execution_count": 33,
      "outputs": [
        {
          "output_type": "stream",
          "name": "stdout",
          "text": [
            "(1, 2, 3, 4, 5, 6)\n"
          ]
        }
      ]
    },
    {
      "cell_type": "markdown",
      "source": [
        "###24.Develop a code that prompts the user to input two sets of strings. Then, print the elements that are present in the first set but not in the second set."
      ],
      "metadata": {
        "id": "iReeT5no_X6z"
      }
    },
    {
      "cell_type": "code",
      "source": [
        "set1 = set(input(\"Enter the first set: \").split())\n",
        "set2 = set(input(\"Enter the second set: \").split())\n",
        "difference = set1-set2\n",
        "\n",
        "print(\"Elements in the first set but not in the second set:\", difference)"
      ],
      "metadata": {
        "colab": {
          "base_uri": "https://localhost:8080/"
        },
        "id": "mjhjxOE0_hf6",
        "outputId": "d7aa9027-cf05-4761-8333-c0df0d94b20f"
      },
      "execution_count": 36,
      "outputs": [
        {
          "output_type": "stream",
          "name": "stdout",
          "text": [
            "Enter the first set: apple banana orange grapes kiwi\n",
            "Enter the second set: strawberry banana kiwi pineapple coconut\n",
            "Elements in the first set but not in the second set: {'orange', 'grapes', 'apple'}\n"
          ]
        }
      ]
    },
    {
      "cell_type": "markdown",
      "source": [
        "###25.Create a code that takes a tuple and two integers as input. The function should return a new tuple containing elements from the original tuple within the specified range of indices."
      ],
      "metadata": {
        "id": "TulJUK_5B3L2"
      }
    },
    {
      "cell_type": "code",
      "source": [
        "def get_tuple_slice(original_tuple, start_index, end_index):\n",
        "  return original_tuple[start_index:end_index]\n",
        "\n",
        "my_tuple = (1, 2, 3, 4, 5, 6, 7, 8)\n",
        "start_index = 2\n",
        "end_index = 6\n",
        "sliced_tuple = get_tuple_slice(my_tuple, start_index, end_index)\n",
        "print(sliced_tuple)"
      ],
      "metadata": {
        "colab": {
          "base_uri": "https://localhost:8080/"
        },
        "id": "hDrs-gJbCC_4",
        "outputId": "9d592496-3ffe-4dc2-d15f-58dc0b6b1545"
      },
      "execution_count": 37,
      "outputs": [
        {
          "output_type": "stream",
          "name": "stdout",
          "text": [
            "(3, 4, 5, 6)\n"
          ]
        }
      ]
    },
    {
      "cell_type": "markdown",
      "source": [
        "###26.Write a code that prompts the user to input two sets of characters. Then, print the union of these two sets."
      ],
      "metadata": {
        "id": "o3HEQJBhC_ds"
      }
    },
    {
      "cell_type": "code",
      "source": [
        "set1 = set(input(\"Enter the first set of characters: \"))\n",
        "set2 = set(input(\"Enter the second set of characters: \"))\n",
        "union = set1|set2\n",
        "\n",
        "print(\"The union of the two sets is:\", union)"
      ],
      "metadata": {
        "colab": {
          "base_uri": "https://localhost:8080/"
        },
        "id": "11rBDf88DHx5",
        "outputId": "0200eb21-960e-43f0-ba48-d0b173e63ca7"
      },
      "execution_count": 38,
      "outputs": [
        {
          "output_type": "stream",
          "name": "stdout",
          "text": [
            "Enter the first set of characters: abcde\n",
            "Enter the second set of characters: cdefg\n",
            "The union of the two sets is: {'e', 'g', 'b', 'f', 'a', 'd', 'c'}\n"
          ]
        }
      ]
    },
    {
      "cell_type": "markdown",
      "source": [
        "###27.Develop a code that takes a tuple of integers as input. The function should return the maximum and minimum values from the tuple using tuple unpacking."
      ],
      "metadata": {
        "id": "byy-2FREDrM-"
      }
    },
    {
      "cell_type": "code",
      "source": [
        "tuple1 = (1, 2, 3, 4, 5)\n",
        "max_value, min_value = max(tuple1), min(tuple1)\n",
        "\n",
        "print(\"Maximum value:\", max_value)\n",
        "print(\"Minimum value:\", min_value)"
      ],
      "metadata": {
        "colab": {
          "base_uri": "https://localhost:8080/"
        },
        "id": "7eL88Ht2D5BV",
        "outputId": "df3268c0-f9d6-4a57-ea7a-bf239691c030"
      },
      "execution_count": 39,
      "outputs": [
        {
          "output_type": "stream",
          "name": "stdout",
          "text": [
            "Maximum value: 5\n",
            "Minimum value: 1\n"
          ]
        }
      ]
    },
    {
      "cell_type": "markdown",
      "source": [
        "###28.Create a code that defines two sets of integers. Then, print the union, intersection, and difference of these two sets."
      ],
      "metadata": {
        "id": "hgCutJyeETo4"
      }
    },
    {
      "cell_type": "code",
      "source": [
        "set1 = {1, 2, 3, 4, 5}\n",
        "set2 = {4, 5, 6, 7, 8}\n",
        "union = set1|set2\n",
        "intersection = set1&set2\n",
        "difference = set1-set2\n",
        "\n",
        "print(\"Union:\", union)\n",
        "print(\"Intersection:\", intersection)\n",
        "print(\"Difference:\", difference)"
      ],
      "metadata": {
        "colab": {
          "base_uri": "https://localhost:8080/"
        },
        "id": "T0s-UR9xEb2T",
        "outputId": "6c4f8590-e9de-4d7c-b670-1c57f3e71753"
      },
      "execution_count": 40,
      "outputs": [
        {
          "output_type": "stream",
          "name": "stdout",
          "text": [
            "Union: {1, 2, 3, 4, 5, 6, 7, 8}\n",
            "Intersection: {4, 5}\n",
            "Difference: {1, 2, 3}\n"
          ]
        }
      ]
    },
    {
      "cell_type": "markdown",
      "source": [
        "###29.Write a code that takes a tuple and an element as input. The function should return the count of occurrences of the given element in the tuple."
      ],
      "metadata": {
        "id": "nOUto1EdGeSD"
      }
    },
    {
      "cell_type": "code",
      "source": [
        "def count_occurrences(my_tuple, element):\n",
        "  count = 0\n",
        "  for item in my_tuple:\n",
        "    if item == element:\n",
        "      count += 1\n",
        "  return count\n",
        "\n",
        "my_tuple = (1, 2, 3, 2, 4, 2, 5)\n",
        "element = 2\n",
        "occurrences = count_occurrences(my_tuple, element)\n",
        "print(occurrences)"
      ],
      "metadata": {
        "colab": {
          "base_uri": "https://localhost:8080/"
        },
        "id": "oVBDw5zEGlgN",
        "outputId": "2a1a71de-64fa-43c2-f311-42bb462dc2e6"
      },
      "execution_count": 41,
      "outputs": [
        {
          "output_type": "stream",
          "name": "stdout",
          "text": [
            "3\n"
          ]
        }
      ]
    },
    {
      "cell_type": "markdown",
      "source": [
        "###30. Develop a code that prompts the user to input two sets of strings. Then, print the symmetric difference of these two sets."
      ],
      "metadata": {
        "id": "JkCMW6AvHWXb"
      }
    },
    {
      "cell_type": "code",
      "source": [
        "  set1 = set(input(\"Enter the first set of strings: \").split())\n",
        "  set2 = set(input(\"Enter the second set of strings: \").split())\n",
        "  symmetric_difference = set1^set2\n",
        "  print(\"Symmetric difference:\", symmetric_difference)"
      ],
      "metadata": {
        "colab": {
          "base_uri": "https://localhost:8080/"
        },
        "id": "F6W0pub7HePJ",
        "outputId": "0269f855-6174-4d7b-fa80-25b03c572ca9"
      },
      "execution_count": 46,
      "outputs": [
        {
          "output_type": "stream",
          "name": "stdout",
          "text": [
            "Enter the first set of strings: apple banana orange grapes\n",
            "Enter the second set of strings: banana orange kiwi\n",
            "Symmetric difference: {'apple', 'kiwi', 'grapes'}\n"
          ]
        }
      ]
    },
    {
      "cell_type": "markdown",
      "source": [
        "###31.Write a code that takes a list of words as input and returns a dictionary where the keys are unique words and the values are the frequencies of those words in the input list."
      ],
      "metadata": {
        "id": "5VwijzjyJBmr"
      }
    },
    {
      "cell_type": "code",
      "source": [
        "def count_word_frequencies(word_list):\n",
        "  word_frequencies = {}\n",
        "  for word in word_list:\n",
        "    if word in word_frequencies:\n",
        "      word_frequencies[word] += 1\n",
        "    else:\n",
        "      word_frequencies[word] = 1\n",
        "  return word_frequencies\n",
        "\n",
        "word_list = [\"apple\", \"banana\", \"apple\", \"orange\", \"banana\", \"apple\"]\n",
        "word_frequencies = count_word_frequencies(word_list)\n",
        "print(word_frequencies)"
      ],
      "metadata": {
        "colab": {
          "base_uri": "https://localhost:8080/"
        },
        "id": "8GpDIccQJKtJ",
        "outputId": "a42df40e-a61a-4f94-c752-5262433a2f3c"
      },
      "execution_count": 47,
      "outputs": [
        {
          "output_type": "stream",
          "name": "stdout",
          "text": [
            "{'apple': 3, 'banana': 2, 'orange': 1}\n"
          ]
        }
      ]
    },
    {
      "cell_type": "markdown",
      "source": [
        "###32.Write a code that takes two dictionaries as input and merges them into a single dictionary. If there are common keys, the values should be added together."
      ],
      "metadata": {
        "id": "angIES5GJsAS"
      }
    },
    {
      "cell_type": "code",
      "source": [
        "from collections import defaultdict\n",
        "\n",
        "def merge_dictionaries_add_values(dict1, dict2):\n",
        "  merged_dict = defaultdict(int)\n",
        "\n",
        "  for k, v in dict1.items():\n",
        "      merged_dict[k] += v\n",
        "  for k, v in dict2.items():\n",
        "      merged_dict[k] += v\n",
        "\n",
        "  return dict(merged_dict)\n",
        "\n",
        "dict1 = {'a': 10, 'b': 20, 'c': 30}\n",
        "dict2 = {'b': 30, 'c': 40, 'd': 50}\n",
        "merged_dict = merge_dictionaries_add_values(dict1, dict2)\n",
        "print(merged_dict)"
      ],
      "metadata": {
        "colab": {
          "base_uri": "https://localhost:8080/"
        },
        "id": "4LWwHmS0Jz7l",
        "outputId": "1e9519d4-a78c-4768-bb8e-2f045e275d0c"
      },
      "execution_count": 60,
      "outputs": [
        {
          "output_type": "stream",
          "name": "stdout",
          "text": [
            "{'a': 10, 'b': 50, 'c': 70, 'd': 50}\n"
          ]
        }
      ]
    },
    {
      "cell_type": "markdown",
      "source": [
        "###33.Write a code to access a value in a nested dictionary. The function should take the dictionary and a list of keys as input, and return the corresponding value. If any of the keys do not exist in the dictionary, the function should return None."
      ],
      "metadata": {
        "id": "7vbQ4KNuMpnu"
      }
    },
    {
      "cell_type": "code",
      "source": [
        "def get_nested_value(nested_dict, keys):\n",
        "  for key in keys:\n",
        "    if key in nested_dict:\n",
        "      nested_dict = nested_dict[key]\n",
        "    else:\n",
        "      return None\n",
        "  return nested_dict\n",
        "\n",
        "data = {\n",
        "    'person': {\n",
        "        'name': 'Alice',\n",
        "        'address': {\n",
        "            'street': '123 Main St',\n",
        "            'city': 'Anytown'\n",
        "        }\n",
        "    }\n",
        "}\n",
        "\n",
        "keys = ['person', 'address', 'city']\n",
        "value = get_nested_value(data, keys)\n",
        "print(value)\n",
        "\n",
        "keys = ['person', 'age']\n",
        "value = get_nested_value(data, keys)\n",
        "print(value)\n",
        "\n",
        "\n"
      ],
      "metadata": {
        "colab": {
          "base_uri": "https://localhost:8080/"
        },
        "id": "Ei9D9xgdMwyf",
        "outputId": "0bb56843-3bce-49c8-c97c-1e030750bdfe"
      },
      "execution_count": 67,
      "outputs": [
        {
          "output_type": "stream",
          "name": "stdout",
          "text": [
            "Anytown\n",
            "None\n"
          ]
        }
      ]
    },
    {
      "cell_type": "markdown",
      "source": [
        "###34. Write a code that takes a dictionary as input and returns a sorted version of it based on the values. You can choose whether to sort in ascending or descending order."
      ],
      "metadata": {
        "id": "LmcyUGBHQN4q"
      }
    },
    {
      "cell_type": "code",
      "source": [
        "def sort_dictionary_by_values(input_dict, ascending=True):\n",
        "\n",
        " sorted_items = sorted(input_dict.items(), key=lambda x: x[1], reverse=not ascending)\n",
        " return dict(sorted_items)\n",
        "\n",
        "my_dict = {'apple': 3, 'banana': 2, 'orange': 1}\n",
        "\n",
        "sorted_dict_asc = sort_dictionary_by_values(my_dict)\n",
        "print(\"Sorted in ascending order:\", sorted_dict_asc)\n",
        "sorted_dict_desc = sort_dictionary_by_values(my_dict, ascending=False)\n",
        "print(\"Sorted in descending order:\", sorted_dict_desc)\n",
        "\n",
        "\n",
        "\n"
      ],
      "metadata": {
        "colab": {
          "base_uri": "https://localhost:8080/"
        },
        "id": "YUM6-Ej0QUxI",
        "outputId": "ea35c9c3-d74c-4c7f-d5a0-b9be84d2c819"
      },
      "execution_count": 75,
      "outputs": [
        {
          "output_type": "stream",
          "name": "stdout",
          "text": [
            "Sorted in ascending order: {'orange': 1, 'banana': 2, 'apple': 3}\n",
            "Sorted in descending order: {'apple': 3, 'banana': 2, 'orange': 1}\n"
          ]
        }
      ]
    },
    {
      "cell_type": "markdown",
      "source": [
        "###35.Write a code that inverts a dictionary, swapping keys and values. Ensure that the inverted dictionary correctly handles cases where multiple keys have the same value by storing the keys as a list in the inverted dictionary."
      ],
      "metadata": {
        "id": "9j3cWn5oTR61"
      }
    },
    {
      "cell_type": "code",
      "source": [
        "from collections import defaultdict\n",
        "\n",
        "def invert_dictionary(input_dict):\n",
        "    inverted_dict = defaultdict(list)\n",
        "    for key, value in input_dict.items():\n",
        "        inverted_dict[value].append(key)\n",
        "    return dict(inverted_dict)\n",
        "\n",
        "my_dict = {'apple': 3, 'banana': 2, 'orange': 3}\n",
        "inverted_dict = invert_dictionary(my_dict)\n",
        "print(\"Inverted dictionary:\", inverted_dict)"
      ],
      "metadata": {
        "colab": {
          "base_uri": "https://localhost:8080/"
        },
        "id": "Cn4vRVT4TaZf",
        "outputId": "9b953457-434f-4d2f-d833-4f47caae4216"
      },
      "execution_count": 76,
      "outputs": [
        {
          "output_type": "stream",
          "name": "stdout",
          "text": [
            "Inverted dictionary: {3: ['apple', 'orange'], 2: ['banana']}\n"
          ]
        }
      ]
    }
  ]
}