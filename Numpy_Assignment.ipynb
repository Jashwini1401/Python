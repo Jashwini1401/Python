{
  "nbformat": 4,
  "nbformat_minor": 0,
  "metadata": {
    "colab": {
      "provenance": []
    },
    "kernelspec": {
      "name": "python3",
      "display_name": "Python 3"
    },
    "language_info": {
      "name": "python"
    }
  },
  "cells": [
    {
      "cell_type": "code",
      "execution_count": null,
      "metadata": {
        "id": "EU2imEwnXz1-"
      },
      "outputs": [],
      "source": []
    },
    {
      "cell_type": "markdown",
      "source": [
        "#Theoretical Questions:-\n",
        "###1.  Explain the purpose and advantages of NumPy in scientific computing and data analysis. How does it enhance Python's capabilities for numerical operations?\n",
        "ANS:- NumPy stands for “Numerical Python” and it is the standard Python library used for working with arrays (i.e.,vectors & matrices), linear algebra, and other numerical computations. NumPy is written in C, making NumPy arrays faster and more memory efficient than Python lists or arrays.\n",
        "\n",
        "NumPy is the fundamental package for scientific computing in Python. It is a Python library that provides a multidimensional array object, various derived objects (such as masked arrays and matrices), and an assortment of routines for fast operations on arrays, including mathematical, logical, shape manipulation,\n",
        "sorting, selecting, I/O, discrete Fourier transforms, basic linear algebra, basic statistical operations, random simulation and much more.\n",
        "\n",
        "At the core of the NumPy package, is the ndarray object. This encapsulates n-dimensional arrays of homogeneous data types, with many operations being performed in compiled code for performance. There are several important differences between NumPy arrays and the standard Python sequences:-\n",
        "\n",
        "(i)NumPy arrays have a fixed size at creation, unlike Python lists (which can grow dynamically). Changing the size of an ndarray will create a new array and delete the original.\n",
        "\n",
        "(ii)The elements in a NumPy array are all required to be of the same data type, and thus will be the same size in memory. The exception: one can have arrays of (Python, including NumPy) objects, thereby allowing for arrays of different sized elements.\n",
        "\n",
        "(iii)NumPy arrays facilitate advanced mathematical and other types of operations on large numbers of data.Typically, such operations are executed more efficiently and with less code than is possible using Python’s built-in sequences.\n",
        "\n",
        "(iv)A growing plethora of scientific and mathematical Python-based packages are using NumPy arrays; though these typically support Python-sequence input, they convert such input to NumPy arrays prior to processing, and they often output NumPy arrays. In other words, in order to efficiently use much (perhaps even most) of today’s scientific/mathematical Python-based software, just knowing how to use Python’s built-in sequence types is insufficient - one also needs to know how to use NumPy arrays."
      ],
      "metadata": {
        "id": "xN2jLiNIX-ro"
      }
    },
    {
      "cell_type": "code",
      "source": [],
      "metadata": {
        "id": "-ijbQMRNZ-Ix"
      },
      "execution_count": null,
      "outputs": []
    },
    {
      "cell_type": "markdown",
      "source": [
        "###2. Compare and contrast np.mean() and np.average() functions in NumPy. When would you use one over the other?\n",
        "ANS:- In the Numpy library, there are two functions np.mean() and np.average() are present. Both are actually doing nearly the same job of calculating mean/average. The difference comes when we are calculating the weighted average. If that is the case then we have to use np.average(). With np.average function we can calculate both arithmetic mean and weighted average. In this article, we have shown the basic use case of both functions and how they are different from each other.\n",
        "\n",
        "**np.mean():-** In numpy library, np.mean() is a function used to calculate arithmetic mean of the given array along with the axis.\n",
        "  \n",
        "**Code:-** This code calculates the mean (average) of a NumPy array named ‘arr’ and prints both the array and its mean value.\n",
        "\n",
        "**Example:-**\n",
        "\n",
        "    import numpy as np\n",
        "    arr = np.array([1,2,3,4,5,6,7,8,9,10])\n",
        "    print(\"Array : \",arr,\"\\n\")\n",
        "    print(\"Mean of the Array : \",np.mean(arr))\n",
        "    \n",
        "    Output:- Array :  [ 1  2  3  4  5  6  7  8  9 10]\n",
        "             Mean of the Array :  5.5\n",
        "\n",
        "**np.average():-** The arithmetic mean and weighted average calculations are more flexible with np.average(). It can calculate the weighted average if we pass the weight; if not, it returns the same value as np.mean(). This implies that the arithmetic mean is the result when we do not pass the weight condition.\n",
        "\n",
        "**Code:-** This code calculates the mean and weighted average of a NumPy array. The mean is the average of the array’s elements, and the weighted average considers assigned weights for each element in the array.\n",
        "\n",
        "**Example:-**\n",
        "\n",
        "    import numpy as np\n",
        "    arr = np.array([1,2,3,4,5,6,7,8,9,10])\n",
        "    print(\"Array : \",arr,\"\\n\")\n",
        "    print(\"Mean of the Array : \",np.average(arr),\"\\n\")\n",
        "    weight = np.array([4,5,6,12,15,10,2,8,19,20])\n",
        "    print(\"Weight average of Array : \",np.average(arr, weights=weight))\n",
        "    \n",
        "    Output:- Array :  [ 1  2  3  4  5  6  7  8  9 10]\n",
        "             Mean of the Array :  5.5\n",
        "             Weight average of Array :  6.574257425742574\n",
        "\n",
        "In numpy library, both np.mean() and np.average() can be used to calculate arithmetic mean. The differenece comes when we have to perform average on weighted array. np.average() gives us flexibilty to work with the weighted arrays too. If we pass the weight of the array to the function, it can perform weighted average at very ease. That is not the case for the np.mean(). It can only be perfomred on non-weighted arrays.\n",
        "\n"
      ],
      "metadata": {
        "id": "IPr44bHyZ-1L"
      }
    },
    {
      "cell_type": "code",
      "source": [],
      "metadata": {
        "id": "qHpRruiLdiVl"
      },
      "execution_count": null,
      "outputs": []
    },
    {
      "cell_type": "markdown",
      "source": [
        "###3. Describe the methods for reversing a NumPy array along different axes. Provide examples for 1D and 2D arrays.\n",
        "Ans:- **Using the flip() Function:-** The syntax of the numpy.flip() function is as follows:-\n",
        "\n",
        "**Syntax:-**\n",
        "\n",
        "    numpy.flip(arr, axis=None)\n",
        "\n",
        "It is made up of a few parameters:-\n",
        "\n",
        "    Sr. No.\t   Parameter Name\t              Parameter Description\n",
        "     1\t          arr\t                           input array\n",
        "     2\t          axis\t            The default, axis=None, flips all of the  \n",
        "                                          input array's axes.\n",
        "\n",
        "The numpy.flip() method in NumPy lets us flip or reverse the contents of an array along an axis. When calling numpy.flip(), indicate the array to be reversed as well as the axis. If we don't provide an axis, NumPy will reverse the contents of our input array along all of its axes.\n",
        "\n",
        "**Note:-** Because we're dealing with multidimensional arrays, reversing an array may be done in various ways. In a 2d array, reversing may be done both row and column-wise.\n",
        "\n",
        "The axis input is used to decide whether reversing should be done row or column wise. The orientations along the rows and columns are represented by NumPy axes, like coordinate systems. A NumPy array's beginning axis is axis 0. This axis 0, which runs vertically downward through the rows of NumPy multidimensional arrays, enables column-wise operations. Axis 1 is the second axis of multidimensional NumPy arrays. As a consequence, Axis 1 spans the array columns horizontally. It completes tasks row by row.\n",
        "\n",
        "**Code:-**\n",
        "\n",
        "    import numpy as np\n",
        "    arr = np.array([[1 , 2, 3, 4], [5, 6, 7, 8], [9, 10, 11, 12]])\n",
        "    reversed_arr = np.flip(arr)\n",
        "    print('Reversed Array: ')\n",
        "    print(reversed_arr)\n",
        "\n",
        "    Output : Reversed Array:\n",
        "             [[12 11 10  9]\n",
        "             [ 8  7  6  5]\n",
        "             [ 4  3  2  1]]\n",
        "\n",
        "**Using the reverse() Function:-** The reverse() function is a built-in Python technique that allows us to immediately reverse a list. The reverse() function always returns the sequence's reversed iterator. The biggest disadvantage is that it will function on the original list, which means it will be reversed.\n",
        "\n",
        "The syntax of the built-in reverse() function is as follows:-\n",
        "\n",
        "**Syntax:-**\n",
        "\n",
        "    arr.reverse()\n",
        "\n",
        "**Code:-**\n",
        "\n",
        "    import array\n",
        "\n",
        "    arr=array.array('i',[1,2,6,8,4,2])\n",
        "    print(arr)\n",
        "    arr.reverse()\n",
        "    print(\"Reversed Array:\",arr)\n",
        "\n",
        "    Output: array('i', [1, 2, 6, 8, 4, 2])\n",
        "            Reversed Array: array('i', [2, 4, 8, 6, 2, 1])\n",
        "\n",
        "**Using the flipud() Function:-** The flipud() method will also reverse the Numpy array items. The numpy.flipud() method flips the array (elements in each column) up and down, keeping the shape.\n",
        "\n",
        "The flipud() method's syntax is as follows:-\n",
        "\n",
        "**Syntax:-**\n",
        "\n",
        "    numpy.flipud(array)\n",
        "\n",
        "**Code:-**\n",
        "\n",
        "    import numpy as np\n",
        "\n",
        "    arr= np.array([9, 8, 3, 6, 2, 1])\n",
        "    result = np.flipud(arr)\n",
        "    print(\"Reverse array\",(result))\n",
        "    print(\"Original array\", arr)\n",
        "\n",
        "    Output:- Reverse array [1 2 6 3 8 9]\n",
        "             Original array [9 8 3 6 2 1]\n",
        "\n",
        "In the preceding code, we loaded the NumPy library and then used the method numpy.array() to build a NumPy array. We made a variable and assigned it the method np.flipud(), which took the array we constructed before and displayed the output. The array was shown in reverse order as a result. We also printed the original array to ensure that it either exists or is destroyed by the flipud() function. However, we discovered that flipud() did not affect the original NumPy array.\n",
        "\n",
        "**Using the fliplr() Function:-** We may quickly reverse an array using the numpy.fliplr() method. The np.fliplr() function flips the array from left to right. The numpy.fliplr() method always takes an array as an argument and returns the same array with a left-right flip. Assuming you have a matrix, a request occurs requiring you to flip the items in each row while keeping the column intact. This function will come in helpful in this circumstance, and it can be accomplished with only one line of code.\n",
        "\n",
        "**Syntax:-**\n",
        "\n",
        "    numpy.fliplr(array)\n",
        "\n",
        "**Code:-**\n",
        "\n",
        "    import numpy as np\n",
        "    a=[[1,23],\n",
        "       [34,6]]\n",
        "    print(np.fliplr(a))\n",
        "    print(\"Orginal array:\")\n",
        "    print(a)\n",
        "\n",
        "    Output:- [[23  1]\n",
        "             [ 6 34]]\n",
        "            Original array:\n",
        "            [[ 1  23]\n",
        "             [34   6]]\n",
        "\n",
        "\n"
      ],
      "metadata": {
        "id": "8wzmtHhUdjBU"
      }
    },
    {
      "cell_type": "code",
      "source": [],
      "metadata": {
        "id": "EEd5nAnrnvMN"
      },
      "execution_count": null,
      "outputs": []
    },
    {
      "cell_type": "markdown",
      "source": [
        "###4. How can you determine the data type of elements in a NumPy array? Discuss the importance of data types in memory management and performance.\n",
        "ANS:- NumPy has some extra data types, and refer to data types with one character, like i for integers, u for unsigned integers etc.Below is a list of all data types in NumPy and the characters used to represent them.\n",
        "\n",
        "    i - integer\n",
        "    b - boolean\n",
        "    u - unsigned integer\n",
        "    f - float\n",
        "    c - complex float\n",
        "    m - timedelta\n",
        "    M - datetime\n",
        "    O - object\n",
        "    S - string\n",
        "    U - unicode string\n",
        "    V - fixed chunk of memory for other type ( void )\n",
        "\n",
        "**Checking the Data Type of an Array:-** The NumPy array object has a property called dtype that returns the data type of the array.\n",
        "\n",
        "**Example:-**\n",
        "\n",
        "(i)Get the data type of an array object:-\n",
        "\n",
        "    import numpy as np\n",
        "    arr = np.array([1, 2, 3, 4])\n",
        "    print(arr.dtype)\n",
        "\n",
        "    Output:- int64\n",
        "\n",
        "(ii)Get the data type of an array containing strings:-\n",
        "\n",
        "    import numpy as np\n",
        "    arr = np.array(['apple', 'banana', 'cherry'])\n",
        "    print(arr.dtype)\n",
        "\n",
        "    Output:- <U6\n",
        "\n",
        "**Creating Arrays With a Defined Data Type:-** We use the array() function to create arrays, this function can take an optional argument: dtype that allows us to define the expected data type of the array elements.\n",
        "\n",
        "**Example:-**\n",
        "\n",
        "(i)Create an array with data type string:-\n",
        "\n",
        "    import numpy as np\n",
        "\n",
        "    arr = np.array([1, 2, 3, 4], dtype='S')\n",
        "\n",
        "    print(arr)\n",
        "    print(arr.dtype)\n",
        "\n",
        "    Output:- [b'1' b'2' b'3' b'4']\n",
        "             |S1\n",
        "\n",
        "(ii)Create an array with data type 4 bytes integer:-\n",
        "\n",
        "    import numpy as np\n",
        "\n",
        "    arr = np.array([1, 2, 3, 4], dtype='i4')\n",
        "\n",
        "    print(arr)\n",
        "    print(arr.dtype)\n",
        "\n",
        "    Output:- [1 2 3 4]\n",
        "             int32\n",
        "\n",
        "**Converting Data Type on Existing Arrays:-** The best way to change the data type of an existing array, is to make a copy of the array with the astype() method.\n",
        "\n",
        "The astype() function creates a copy of the array, and allows us to specify the data type as a parameter.\n",
        "\n",
        "The data type can be specified using a string, like 'f' for float, 'i' for integer etc. or we can use the data type directly like float for float and int for integer.\n",
        "\n",
        "**Example:-**\n",
        "\n",
        "(i)Change data type from float to integer by using 'i' as parameter value:-\n",
        "\n",
        "    import numpy as np\n",
        "\n",
        "    arr = np.array([1.1, 2.1, 3.1])\n",
        "\n",
        "    newarr = arr.astype('i')\n",
        "\n",
        "    print(newarr)\n",
        "    print(newarr.dtype)\n",
        "\n",
        "    Output:- [1 2 3]\n",
        "             int32\n",
        "\n",
        "(ii)Change data type from float to integer by using int as parameter value:-\n",
        "\n",
        "    import numpy as np\n",
        "\n",
        "    arr = np.array([1.1, 2.1, 3.1])\n",
        "\n",
        "    newarr = arr.astype(int)\n",
        "\n",
        "    print(newarr)\n",
        "    print(newarr.dtype)\n",
        "\n",
        "    Output:- [1 2 3]\n",
        "             int64\n",
        "\n",
        "(iii)Change data type from integer to boolean:-\n",
        "\n",
        "    import numpy as np\n",
        "\n",
        "    arr = np.array([1, 0, 3])\n",
        "\n",
        "    newarr = arr.astype(bool)\n",
        "\n",
        "    print(newarr)\n",
        "    print(newarr.dtype)\n",
        "\n",
        "    Output:- [ True False True]\n",
        "             bool"
      ],
      "metadata": {
        "id": "tLERurXun1OW"
      }
    },
    {
      "cell_type": "code",
      "source": [],
      "metadata": {
        "id": "-jzNcS-9yVER"
      },
      "execution_count": null,
      "outputs": []
    },
    {
      "cell_type": "markdown",
      "source": [
        "###5. Define ndarrays in NumPy and explain their key features. How do they differ from standard Python lists?\n",
        "ANS:- An ndarray is a (usually fixed-size) multidimensional container of items of the same type and size. The number of dimensions and items in an array is defined by its shape, which is a tuple of N non-negative integers that specify the sizes of each dimension. The type of items in the array is specified by a separate data-type object (dtype), one of which is associated with each ndarray.\n",
        "\n",
        "As with other container objects in Python, the contents of an ndarray can be accessed and modified by indexing or slicing the array (using, for example, N integers), and via the methods and attributes of the ndarray.\n",
        "\n",
        "Different ndarrays can share the same data, so that changes made in one ndarray may be visible in another. That is, an ndarray can be a “view” to another ndarray, and the data it is referring to is taken care of by the “base” ndarray. ndarrays can also be views to memory owned by Python strings or objects implementing the memoryview or array interfaces.\n",
        "\n",
        "There are several differences between ndarrays in NumPy and standard python lists:-\n",
        "\n",
        "(i)we can append elements to a list, but you can't change the size of a ´numpy.ndarray´ without making a full copy.\n",
        "\n",
        "(ii)Lists can containt about everything, in numpy arrays all the elements must have the same type.\n",
        "\n",
        "(iii)In practice, numpy arrays are faster for vectorial functions than mapping functions to lists.\n",
        "\n",
        "(iv)I think than modification times is not an issue, but iteration over the elements is.\n",
        "\n",
        "(v)Numpy arrays have many array related methods (´argmin´, ´min´, ´sort´, etc).\n",
        "\n",
        "I prefer to use numpy arrays when I need to do some mathematical operations (sum, average, array multiplication, etc) and list when I need to iterate in 'items' (strings, files, etc)."
      ],
      "metadata": {
        "id": "hu9rRKp6yVv4"
      }
    },
    {
      "cell_type": "code",
      "source": [],
      "metadata": {
        "id": "R2A5DOVv6HUb"
      },
      "execution_count": null,
      "outputs": []
    },
    {
      "cell_type": "markdown",
      "source": [
        "###6. Analyze the performance benefits of NumPy arrays over Python lists for large-scale numerical operations.\n",
        "ANS:- NumPy arrays offer significant performance advantages over python lists for large-scale numerical operations.Here's detailed analysis:-\n",
        "\n",
        "**(i) Homogeneous Data Type:-**\n",
        "\n",
        "**NumPy arrays:-** Store elements of the same data type (e.g., integers, floats), enabling efficient memory allocation and optimized operations.\n",
        "\n",
        "**Python lists:-** Can store elements of different data types, requiring additional memory overhead and type checking during operations.\n",
        "\n",
        "**(ii) Contiguous Memory Allocation:-**\n",
        "\n",
        "**NumPy arrays:-** Store data in contiguous memory blocks, allowing faster access and manipulation.\n",
        "\n",
        "**Python lists:-** Store references to objects scattered in memory, leading to slower access and potential memory fragmentation.\n",
        "\n",
        "**(iii) Vectorized Operations:-**\n",
        "\n",
        "**NumPy arrays:-** Support vectorized operations, performing computations on entire arrays without explicit loops. This leverages optimized C and Fortran libraries, resulting in significant speedups.\n",
        "\n",
        "**Python lists:-** Require explicit loops for element-wise operations, introducing interpreter overhead and slowing down computations.\n",
        "\n",
        "**(iv) Broadcasting:-**\n",
        "\n",
        "**NumPy arrays:-** Enable broadcasting, allowing operations between arrays of different but compatible shapes. This simplifies code and improves performance.\n",
        "\n",
        "**Python lists:-** Lack broadcasting capabilities, requiring manual reshaping or looping.\n",
        "\n",
        "**(v) Optimized Mathematical Functions:-**\n",
        "\n",
        "**NumPy arrays:-** Provides a rich library of optimized mathematical functions (e.g., np.sin, np.exp, np.dot) implemented in low-level languages, offering superior performance.\n",
        "\n",
        "**Python lists:-** Rely on built-in functions or custom implementations, which are often slower for large-scale computations.\n",
        "\n",
        "**Performance Comparison Example:-**\n",
        "\n",
        "    import numpy as np\n",
        "    import time\n",
        "\n",
        "    # Create large lists and arrays\n",
        "    size = 1000000\n",
        "    python_list = list(range(size))\n",
        "    numpy_array = np.arange(size)\n",
        "\n",
        "    # Measure time for element-wise addition\n",
        "    start_time = time.time()\n",
        "    result = [x + 2 for x in python_list]\n",
        "    print(\"Python list time:\", time.time() - start_time)\n",
        "\n",
        "    start_time = time.time()\n",
        "    result = numpy_array + 2\n",
        "    print(\"NumPy array time:\", time.time() - start_time)\n",
        "\n",
        "In conclusion, NumPy arrays outperform Python lists in terms of speed and memory efficiency for large-scale numerical operations due to their optimized data storage, vectorized operations, and efficient mathematical functions. If you're working with numerical data in Python, utilizing NumPy is highly recommended for achieving optimal performance."
      ],
      "metadata": {
        "id": "4c69Hbja6H00"
      }
    },
    {
      "cell_type": "code",
      "source": [],
      "metadata": {
        "id": "sOIVoxllPOIZ"
      },
      "execution_count": null,
      "outputs": []
    },
    {
      "cell_type": "markdown",
      "source": [
        "###7.  Compare vstack() and hstack() functions in NumPy. Provide examples demonstrating their usage and output.\n",
        "ANS:- In NumPy, vstack and hstack are used to stack arrays vertically and horizontally, respectively. Here's a breakdown of their differences with examples:\n",
        "\n",
        "**vstack():-**\n",
        "\n",
        "**Purpose:-** Stacks arrays vertically (row-wise), creating a new array with more rows.\n",
        "\n",
        "**Syntax:-** np.vstack((array1, array2, ...))\n",
        "\n",
        "**Example:-**\n",
        "\n",
        "    import numpy as np\n",
        "\n",
        "    a = np.array([1, 2, 3])\n",
        "    b = np.array([4, 5, 6])\n",
        "\n",
        "    result = np.vstack((a, b))\n",
        "    print(result)\n",
        "\n",
        "    Output:-[[1 2 3]\n",
        "            [4 5 6]]\n",
        "\n",
        "**hstack():-**\n",
        "\n",
        "**Purpose:-** Stacks arrays horizontally (column-wise), creating a new array with more columns.\n",
        "\n",
        "**Syntax:-** np.hstack((array1, array2, ...))\n",
        "\n",
        "**Example:-**\n",
        "\n",
        "    import numpy as np\n",
        "\n",
        "    a = np.array([1, 2, 3])\n",
        "    b = np.array([4, 5, 6])\n",
        "\n",
        "    result = np.hstack((a, b))\n",
        "    print(result)\n",
        "\n",
        "    Output:- [1 2 3 4 5 6]\n",
        "\n",
        "**Key differences:-**\n",
        "\n",
        "**Stacking direction:-** vstack stacks along the first axis (rows), while hstack stacks along the second axis (columns).\n",
        "\n",
        "**Shape requirements:-** For vstack, all input arrays must have the same number of columns. For hstack, they must have the same number of rows."
      ],
      "metadata": {
        "id": "iT1Oni9lPRzM"
      }
    },
    {
      "cell_type": "code",
      "source": [],
      "metadata": {
        "id": "tc6F9pyYV-Z5"
      },
      "execution_count": null,
      "outputs": []
    },
    {
      "cell_type": "markdown",
      "source": [
        "###8. Explain the differences between fliplr() and flipud() methods in NumPy, including their effects on various array dimensions.\n",
        "ANS:- In NumPy, both fliplr() and flipud() are used to reverse the order of elements in an array, but they operate along different axes:\n",
        "\n",
        "**fliplr():-**\n",
        "\n",
        "**Function:-** Flips the array horizontally, i.e., reverses the order of elements along the second axis (columns).\n",
        "\n",
        "**Effect on 2D arrays:-** Reverses the order of columns in each row.\n",
        "\n",
        "**Effect on higher-dimensional arrays:-** Reverses the order of elements along the second axis, leaving other axes unchanged.\n",
        "\n",
        "**Equivalent operation:-** np.flip(m, axis=1)\n",
        "\n",
        "\n",
        "\n",
        "**flipud():-**\n",
        "\n",
        "**Function:-** Flips the array vertically, i.e., reverses the order of elements along the first axis (rows).\n",
        "\n",
        "**Effect on 2D arrays:-** Reverses the order of rows.\n",
        "\n",
        "**Effect on higher-dimensional arrays:-** Reverses the order of elements along the first axis, leaving other axes unchanged.\n",
        "\n",
        "**Equivalent operation:-** np.flip(m, axis=0)\n",
        "\n",
        "**Examples:-**\n",
        "\n",
        "    import numpy as np\n",
        "\n",
        "    arr = np.array([[1, 2, 3], [4, 5, 6]])\n",
        "\n",
        "    print(\"Original array:\")\n",
        "    print(arr)\n",
        "\n",
        "    print(\"\\nfliplr():\")\n",
        "    print(np.fliplr(arr))\n",
        "\n",
        "    print(\"\\nflipud():\")\n",
        "    print(np.flipud(arr))\n",
        "\n",
        "    Output:  Original array:\n",
        "             [[1 2 3]\n",
        "             [4 5 6]]\n",
        "\n",
        "             fliplr():\n",
        "             [[3 2 1]\n",
        "             [6 5 4]]\n",
        "\n",
        "             flipud():\n",
        "             [[4 5 6]\n",
        "             [1 2 3]]\n",
        "\n",
        "**Key points:-**\n",
        "\n",
        "**Axis:-** fliplr() operates along the second axis (columns), while flipud() operates along the first axis (rows).\n",
        "\n",
        "**2D arrays:-** fliplr() mirrors the array left-to-right, while flipud() mirrors it top-to-bottom.\n",
        "\n",
        "**Higher dimensions:-** Both functions only flip elements along the specified axis, leaving other dimensions unchanged."
      ],
      "metadata": {
        "id": "bs8A_NIjV_CD"
      }
    },
    {
      "cell_type": "code",
      "source": [],
      "metadata": {
        "id": "7C2_9DnDZaip"
      },
      "execution_count": null,
      "outputs": []
    },
    {
      "cell_type": "markdown",
      "source": [
        "###9. Discuss the functionality of the array_split() method in NumPy. How does it handle uneven splits?\n",
        "ANS:- The array_split() method in NumPy is used to split an array into multiple sub-arrays.\n",
        "\n",
        "**Functionality:-**\n",
        "\n",
        "**Splitting into equal parts:-** If the array can be divided evenly into the specified number of sub-arrays, array_split() will do so.\n",
        "\n",
        "**Handling uneven splits:-** If the array cannot be divided evenly, array_split() will distribute the extra elements across the first few sub-arrays. This means the first few sub-arrays may have one more element than the remaining sub-arrays.\n",
        "\n",
        "**Example:-**\n",
        "\n",
        "    import numpy as np\n",
        "\n",
        "    arr = np.arange(8)  # Create an array [0, 1, 2, 3, 4, 5, 6, 7]\n",
        "\n",
        "    # Split into 3 sub-arrays\n",
        "    split_arrays = np.array_split(arr, 3)\n",
        "\n",
        "    print(split_arrays)\n",
        "\n",
        "    Output: [array([0, 1, 2]), array([3, 4, 5]), array([6, 7])]\n",
        "\n",
        "In this example, the array arr cannot be divided evenly into 3 parts. So, array_split() creates 3 sub-arrays:-\n",
        "\n",
        "(i)The first sub-array has 3 elements.\n",
        "\n",
        "(ii)The second sub-array also has 3 elements.\n",
        "\n",
        "(iii)The third sub-array has the remaining 2 elements.\n",
        "\n",
        "**Difference between array_split() and split():-**\n",
        "\n",
        "**array_split():-** Allows uneven splits, as demonstrated above.\n",
        "\n",
        "**split():-** Raises an error if the array cannot be divided evenly.\n",
        "\n",
        "**Key points:-**\n",
        "\n",
        "(i)array_split() is a more flexible way to split arrays than split() because it handles uneven splits.\n",
        "\n",
        "(ii)We can specify the axis along which to split the array using the axis parameter.\n",
        "\n",
        "(iii)The indices_or_sections parameter can be an integer (to specify the number of sub-arrays) or a list of indices (to specify the split points).\n"
      ],
      "metadata": {
        "id": "pj1HOS2JZbKG"
      }
    },
    {
      "cell_type": "code",
      "source": [],
      "metadata": {
        "id": "ohV0aAbkdClL"
      },
      "execution_count": null,
      "outputs": []
    },
    {
      "cell_type": "markdown",
      "source": [
        "###10. Explain the concepts of vectorization and broadcasting in NumPy. How do they contribute to efficient array operations?\n",
        "ANS:- Vectorization and broadcasting are important concepts in NumPy that enhance the efficiency of array operations in Python.\n",
        "\n",
        "**Vectorization Concept:-** Vectorization allows us to perform operations on entire arrays at once instead of using loops to iterate through individual elements. This is possible because NumPy's operations are implemented in optimized C code, which makes them much faster than Python loops. For example, if we want to add two arrays together, we can do it directly like this:\n",
        "\n",
        "    import numpy as np\n",
        "\n",
        "    # Create two arrays\n",
        "    a = np.array([1, 2, 3])\n",
        "    b = np.array([4, 5, 6])\n",
        "\n",
        "    # Vectorized addition\n",
        "    result = a + b\n",
        "    print(result)  \n",
        "    \n",
        "    # Output:- [5 7 9]\n",
        "\n",
        "    In this example, the addition is applied to each corresponding element of a and b without needing to write a loop.\n",
        "\n",
        "**Broadcasting Concept:-** Broadcasting, on the other hand, allows NumPy to work with arrays of different shapes during arithmetic operations. When you perform operations on arrays of different sizes, NumPy automatically expands the smaller array across the larger one to make their shapes compatible. This means you can easily perform operations without reshaping the arrays manually.\n",
        "\n",
        "For instance, if we add a scalar to an array, broadcasting handles it seamlessly:-\n",
        "\n",
        "    # Create an array\n",
        "    a = np.array([1, 2, 3])\n",
        "\n",
        "    # Add a scalar\n",
        "    result = a + 5\n",
        "    print(result)  \n",
        "    \n",
        "    # Output:- [6 7 8]\n",
        "\n",
        "    Here, the scalar 5 is broadcasted to match the shape of a, allowing for element-wise addition.\n",
        "\n",
        "\n",
        "**Another example of broadcasting is when adding a 1D array to a 2D array:-**\n",
        "\n",
        "    # Create a 2D array\n",
        "    b = np.array([[1, 2, 3],\n",
        "                 [4, 5, 6]])\n",
        "\n",
        "    # Create a 1D array\n",
        "    c = np.array([10, 20, 30])\n",
        "\n",
        "    # Add the 1D array to the 2D array\n",
        "    result = b + c\n",
        "    print(result)\n",
        "\n",
        "    # Output:- [[11 22 33]\n",
        "               [14 25 36]]\n",
        "\n",
        "    In this case, the 1D array c is broadcasted across each row of the 2D array b, enabling element-wise addition.\n",
        "\n",
        "Both vectorization and broadcasting make array operations in NumPy much more efficient by eliminating the need for explicit loops and enabling operations on arrays of different shapes. This results in cleaner code and faster execution, especially when working with large datasets. Overall, these concepts are fundamental to harnessing the full power of NumPy in data analysis and scientific computing."
      ],
      "metadata": {
        "id": "OJmeBfHidDOX"
      }
    },
    {
      "cell_type": "code",
      "source": [],
      "metadata": {
        "id": "s2vxNxYyiFF3"
      },
      "execution_count": null,
      "outputs": []
    },
    {
      "cell_type": "markdown",
      "source": [
        "#Practical Questions:-\n",
        "###1.  Create a 3x3 NumPy array with random integers between 1 and 100. Then, interchange its rows and columns."
      ],
      "metadata": {
        "id": "vtcIiUcRiX4u"
      }
    },
    {
      "cell_type": "code",
      "source": [
        "import numpy as np\n",
        "\n",
        "\n",
        "arr1 = np.array([[1,2,3] , [4,5,6] , [7,8,9]])\n",
        "transposed_arr = arr1.transpose()\n",
        "print(transposed_arr)"
      ],
      "metadata": {
        "id": "x0l3BMPYlrHI",
        "colab": {
          "base_uri": "https://localhost:8080/"
        },
        "outputId": "3b252b9a-d3c6-4ac6-a9cd-6f62fd7748cb"
      },
      "execution_count": null,
      "outputs": [
        {
          "output_type": "stream",
          "name": "stdout",
          "text": [
            "[[1 4 7]\n",
            " [2 5 8]\n",
            " [3 6 9]]\n"
          ]
        }
      ]
    },
    {
      "cell_type": "markdown",
      "source": [
        "###2.  Generate a 1D NumPy array with 10 elements. Reshape it into a 2x5 array, then into a 5x2 array.\n",
        "\n",
        "\n",
        "\n"
      ],
      "metadata": {
        "id": "MfeOmYohNkwk"
      }
    },
    {
      "cell_type": "code",
      "source": [
        "import numpy as np\n",
        "\n",
        "arr_1d = np.arange(1,11)\n",
        "print(\"1D Array:\")\n",
        "print(arr_1d)\n",
        "arr_2_5 = arr_1d.reshape(2,5)\n",
        "print(\"\\n2*5 Array:\")\n",
        "print(arr_2_5)\n",
        "arr_5_2 = arr_1d.reshape(5,2)\n",
        "print(\"\\n5*2 Array:\")\n",
        "print(arr_5_2)"
      ],
      "metadata": {
        "colab": {
          "base_uri": "https://localhost:8080/"
        },
        "id": "N_uPwME5Ogzy",
        "outputId": "55744a39-f17d-4cce-a62e-81361c0ef622"
      },
      "execution_count": null,
      "outputs": [
        {
          "output_type": "stream",
          "name": "stdout",
          "text": [
            "1D Array:\n",
            "[ 1  2  3  4  5  6  7  8  9 10]\n",
            "\n",
            "2*5 Array:\n",
            "[[ 1  2  3  4  5]\n",
            " [ 6  7  8  9 10]]\n",
            "\n",
            "5*2 Array:\n",
            "[[ 1  2]\n",
            " [ 3  4]\n",
            " [ 5  6]\n",
            " [ 7  8]\n",
            " [ 9 10]]\n"
          ]
        }
      ]
    },
    {
      "cell_type": "markdown",
      "source": [
        "###3.  Create a 4x4 NumPy array with random float values. Add a border of zeros around it, resulting in a 6x6 array."
      ],
      "metadata": {
        "id": "LUAxHEcLWVTQ"
      }
    },
    {
      "cell_type": "code",
      "source": [
        "import numpy as np\n",
        "\n",
        "array = np.random.rand(4,4)\n",
        "array = np.pad(array,pad_width = 1,mode = 'constant',constant_values = 0)\n",
        "print(array)"
      ],
      "metadata": {
        "colab": {
          "base_uri": "https://localhost:8080/"
        },
        "id": "q6wuaNxuWapT",
        "outputId": "62d78b0f-748a-4ac3-e9ae-921579996b51"
      },
      "execution_count": null,
      "outputs": [
        {
          "output_type": "stream",
          "name": "stdout",
          "text": [
            "[[0.         0.         0.         0.         0.         0.        ]\n",
            " [0.         0.52058068 0.72953205 0.47640191 0.53332244 0.        ]\n",
            " [0.         0.10411815 0.00442961 0.08123721 0.17323934 0.        ]\n",
            " [0.         0.87091036 0.27312968 0.68835862 0.41420691 0.        ]\n",
            " [0.         0.76579717 0.49714194 0.17509609 0.67965641 0.        ]\n",
            " [0.         0.         0.         0.         0.         0.        ]]\n"
          ]
        }
      ]
    },
    {
      "cell_type": "markdown",
      "source": [
        "###4. Using NumPy, create an array of integers from 10 to 60 with a step of 5."
      ],
      "metadata": {
        "id": "_4my9LynYdcw"
      }
    },
    {
      "cell_type": "code",
      "source": [
        "import numpy as np\n",
        "\n",
        "array = np.arange(10,61,5)\n",
        "print(array)"
      ],
      "metadata": {
        "colab": {
          "base_uri": "https://localhost:8080/"
        },
        "id": "lLBwyNNPYpOK",
        "outputId": "d7fba26e-3b50-4226-9690-c3a3eebde87f"
      },
      "execution_count": null,
      "outputs": [
        {
          "output_type": "stream",
          "name": "stdout",
          "text": [
            "[10 15 20 25 30 35 40 45 50 55 60]\n"
          ]
        }
      ]
    },
    {
      "cell_type": "markdown",
      "source": [
        "###5.  Create a NumPy array of strings ['python', 'numpy', 'pandas']. Apply different case transformations (uppercase, lowercase, title case, etc.) to each element."
      ],
      "metadata": {
        "id": "93Dg4vLHaIuK"
      }
    },
    {
      "cell_type": "code",
      "source": [
        "import numpy as np\n",
        "\n",
        "strings = np.array(['python','numpy','pandas'])\n",
        "\n",
        "uppercase_strings = np.char.upper(strings)\n",
        "lowercase_strings = np.char.lower(strings)\n",
        "titlecase_strings = np.char.title(strings)\n",
        "\n",
        "print(\"uppercase:\", uppercase_strings)\n",
        "print(\"lowercase:\", lowercase_strings)\n",
        "print(\"titlecase:\", titlecase_strings)"
      ],
      "metadata": {
        "id": "_ZxVihB3fdh4",
        "colab": {
          "base_uri": "https://localhost:8080/"
        },
        "outputId": "0a959097-1993-4775-801d-c260b7b8c1ca"
      },
      "execution_count": 1,
      "outputs": [
        {
          "output_type": "stream",
          "name": "stdout",
          "text": [
            "uppercase: ['PYTHON' 'NUMPY' 'PANDAS']\n",
            "lowercase: ['python' 'numpy' 'pandas']\n",
            "titlecase: ['Python' 'Numpy' 'Pandas']\n"
          ]
        }
      ]
    },
    {
      "cell_type": "markdown",
      "source": [
        "###6. Generate a NumPy array of words. Insert a space between each character of every word in the array."
      ],
      "metadata": {
        "id": "njB-wFSPSt2x"
      }
    },
    {
      "cell_type": "code",
      "source": [
        "import numpy as np\n",
        "\n",
        "words = [\"hello\", \"world\",\"numpy\",\"array\"]\n",
        "spaced_words = []\n",
        "for word in words:\n",
        "   spaced_word = \" \".join(word)\n",
        "   spaced_words.append(spaced_word)\n",
        "array_of_words = np.array(spaced_words)\n",
        "print(array_of_words)"
      ],
      "metadata": {
        "colab": {
          "base_uri": "https://localhost:8080/"
        },
        "id": "aXY3rTwXS6jc",
        "outputId": "9c873545-3b7b-4a1c-90a7-1dfd69611573"
      },
      "execution_count": 3,
      "outputs": [
        {
          "output_type": "stream",
          "name": "stdout",
          "text": [
            "['h e l l o' 'w o r l d' 'n u m p y' 'a r r a y']\n"
          ]
        }
      ]
    },
    {
      "cell_type": "markdown",
      "source": [
        "###7. Create two 2D NumPy arrays and perform element-wise addition, subtraction, multiplication, and division."
      ],
      "metadata": {
        "id": "yghkvgPCVKhf"
      }
    },
    {
      "cell_type": "code",
      "source": [
        "import numpy as np\n",
        "\n",
        "\n",
        "array1 = np.array([[1, 2, 3], [4, 5, 6]])\n",
        "array2 = np.array([[7, 8, 9], [10, 11, 12]])\n",
        "\n",
        "\n",
        "addition_result = array1 + array2\n",
        "print(\"Addition:\\n\", addition_result)\n",
        "\n",
        "\n",
        "subtraction_result = array1 - array2\n",
        "print(\"Subtraction:\\n\", subtraction_result)\n",
        "\n",
        "multiplication_result = array1 * array2\n",
        "print(\"Multiplication:\\n\", multiplication_result)\n",
        "\n",
        "\n",
        "division_result = array1 / array2\n",
        "print(\"Division:\\n\", division_result)"
      ],
      "metadata": {
        "colab": {
          "base_uri": "https://localhost:8080/"
        },
        "id": "F2YW_EX3Xy2O",
        "outputId": "bb7ce4d6-f745-43fe-bec7-901451dad1b1"
      },
      "execution_count": 4,
      "outputs": [
        {
          "output_type": "stream",
          "name": "stdout",
          "text": [
            "Addition:\n",
            " [[ 8 10 12]\n",
            " [14 16 18]]\n",
            "Subtraction:\n",
            " [[-6 -6 -6]\n",
            " [-6 -6 -6]]\n",
            "Multiplication:\n",
            " [[ 7 16 27]\n",
            " [40 55 72]]\n",
            "Division:\n",
            " [[0.14285714 0.25       0.33333333]\n",
            " [0.4        0.45454545 0.5       ]]\n"
          ]
        }
      ]
    },
    {
      "cell_type": "markdown",
      "source": [
        "###8. Use NumPy to create a 5x5 identity matrix, then extract its diagonal elements."
      ],
      "metadata": {
        "id": "4YeiChyuYrRE"
      }
    },
    {
      "cell_type": "code",
      "source": [
        "import numpy as np\n",
        "\n",
        "\n",
        "identity_matrix = np.eye(5)\n",
        "\n",
        "diagonal_elements = np.diag(identity_matrix)\n",
        "\n",
        "print(\"Identity Matrix:\\n\", identity_matrix)\n",
        "print(\"Diagonal Elements:\\n\", diagonal_elements)"
      ],
      "metadata": {
        "colab": {
          "base_uri": "https://localhost:8080/"
        },
        "id": "PYeUh4eFZOsa",
        "outputId": "f2340eec-dfe1-4b98-b73c-d0ce441b1398"
      },
      "execution_count": 5,
      "outputs": [
        {
          "output_type": "stream",
          "name": "stdout",
          "text": [
            "Identity Matrix:\n",
            " [[1. 0. 0. 0. 0.]\n",
            " [0. 1. 0. 0. 0.]\n",
            " [0. 0. 1. 0. 0.]\n",
            " [0. 0. 0. 1. 0.]\n",
            " [0. 0. 0. 0. 1.]]\n",
            "Diagonal Elements:\n",
            " [1. 1. 1. 1. 1.]\n"
          ]
        }
      ]
    },
    {
      "cell_type": "markdown",
      "source": [
        "###9. Generate a NumPy array of 100 random integers between 0 and 1000. Find and display all prime numbers in this array."
      ],
      "metadata": {
        "id": "HwiCcOLEZbBl"
      }
    },
    {
      "cell_type": "code",
      "source": [
        "import numpy as np\n",
        "\n",
        "def is_prime(num):\n",
        "    \"\"\"Checks if a number is prime.\"\"\"\n",
        "    if num <= 1:\n",
        "        return False\n",
        "    for i in range(2, int(num**0.5) + 1):\n",
        "        if num % i == 0:\n",
        "            return False\n",
        "    return True\n",
        "\n",
        "random_array = np.random.randint(0, 1001, 100)\n",
        "\n",
        "prime_numbers = []\n",
        "for num in random_array:\n",
        "    if is_prime(num):\n",
        "        prime_numbers.append(num)\n",
        "\n",
        "print(\"Prime numbers in the array:\", prime_numbers)"
      ],
      "metadata": {
        "colab": {
          "base_uri": "https://localhost:8080/"
        },
        "id": "2PiMpcMzZh4X",
        "outputId": "5be8ea36-3922-42d0-eb3b-9f0d370dad39"
      },
      "execution_count": 6,
      "outputs": [
        {
          "output_type": "stream",
          "name": "stdout",
          "text": [
            "Prime numbers in the array: [131, 379, 317, 739, 7, 113, 823, 79, 709, 463]\n"
          ]
        }
      ]
    },
    {
      "cell_type": "markdown",
      "source": [
        "###10. Create a NumPy array representing daily temperatures for a month. Calculate and display the weekly averages."
      ],
      "metadata": {
        "id": "0fwVasY3aOoB"
      }
    },
    {
      "cell_type": "code",
      "source": [
        "import numpy as np\n",
        "\n",
        "temperatures = np.random.randint(15, 35, 30)\n",
        "\n",
        "temperatures_reshaped = temperatures.reshape(5, 6)\n",
        "\n",
        "weekly_averages = np.mean(temperatures_reshaped, axis=1)\n",
        "\n",
        "print(\"Daily Temperatures:\")\n",
        "print(temperatures)\n",
        "\n",
        "print(\"\\nWeekly Averages:\")\n",
        "print(weekly_averages)"
      ],
      "metadata": {
        "colab": {
          "base_uri": "https://localhost:8080/"
        },
        "id": "_p1L6ougaWWG",
        "outputId": "8059a8f0-6baf-454c-9ced-3b3192d446e4"
      },
      "execution_count": 9,
      "outputs": [
        {
          "output_type": "stream",
          "name": "stdout",
          "text": [
            "Daily Temperatures:\n",
            "[30 30 24 17 32 23 33 15 20 15 21 24 22 20 33 31 19 22 34 20 33 27 20 27\n",
            " 34 17 29 33 17 15]\n",
            "\n",
            "Weekly Averages:\n",
            "[26.         21.33333333 24.5        26.83333333 24.16666667]\n"
          ]
        }
      ]
    }
  ]
}